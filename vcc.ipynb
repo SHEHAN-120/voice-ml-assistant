{
 "cells": [
  {
   "cell_type": "code",
   "execution_count": 1,
   "id": "a9dc2145",
   "metadata": {},
   "outputs": [],
   "source": [
    "import speech_recognition as sr\n",
    "import pyttsx3\n",
    "from datetime import datetime\n",
    "import wikipedia"
   ]
  },
  {
   "cell_type": "code",
   "execution_count": 2,
   "id": "2035a51c",
   "metadata": {},
   "outputs": [],
   "source": [
    "engine = pyttsx3.init()"
   ]
  },
  {
   "cell_type": "code",
   "execution_count": 3,
   "id": "fe7c42a4",
   "metadata": {},
   "outputs": [],
   "source": [
    "def speak(text):\n",
    "\tengine.say(text)\n",
    "\tengine.runAndWait()"
   ]
  },
  {
   "cell_type": "code",
   "execution_count": 4,
   "id": "dd20a343",
   "metadata": {},
   "outputs": [],
   "source": [
    "def get_time():\n",
    "\ttime = datetime.now().strftime(\"%I:%M %p\")\n",
    "\tspeak(f\"The current time is {time}\")\n",
    "\tprint(f\"Current Time: {time}\")"
   ]
  },
  {
   "cell_type": "code",
   "execution_count": 5,
   "id": "5720cac9",
   "metadata": {},
   "outputs": [],
   "source": [
    "def search_wikipedia(query):\n",
    "\ttry:\n",
    "\t\tresult = wikipedia.summary(query, sentences=2)\n",
    "\t\tspeak(result)\n",
    "\t\tprint(result)\n",
    "\texcept wikipedia.exceptions.DisambiguationError:\n",
    "\t\tspeak(\"There are multiple results. Please specify\")\n",
    "\texcept wikipedia.exceptions.PageError:\n",
    "\t\tspeak(\"No Results found.\")"
   ]
  },
  {
   "cell_type": "code",
   "execution_count": 6,
   "id": "d99c7192",
   "metadata": {},
   "outputs": [],
   "source": [
    "def process_command(command):\n",
    "\tif \"time\" in command:\n",
    "\t\tget_time()\n",
    "\telif \"wikipedia\" in command:\n",
    "\t\tspeak(\"What do you want to search on Wikipedia?\")\n",
    "\t\tquery = recognize_speech()\n",
    "\t\tif query:\n",
    "\t\t\tsearch_wikipedia(query)\n",
    "\telif \"exit\" in command or \"stop\" in command:\n",
    "\t\tspeak(\"Goodbye\")\n",
    "\t\texit()\n",
    "\telse:\n",
    "\t\tspeak(\"Sorry, I dont understand that command\")"
   ]
  },
  {
   "cell_type": "code",
   "execution_count": 7,
   "id": "37f0bf9a",
   "metadata": {},
   "outputs": [],
   "source": [
    "def recognize_speech():\n",
    "\trecognizer = sr.Recognizer()\n",
    "\twith sr.Microphone() as source:\n",
    "\t\tprint(\"Listening...\")\n",
    "\t\trecognizer.adjust_for_ambient_noise(source)\n",
    "\t\taudio = recognizer.listen(source)\n",
    "\ttry:\n",
    "\t\ttext = recognizer.recognize_google(audio)\n",
    "\t\tprint(f\"User said: {text}\")\n",
    "\t\treturn text.lower()\n",
    "\texcept sr.UnknownValueError:\n",
    "\t\tprint(\"Sorry, I could not understand.\")\n",
    "\t\treturn None\n",
    "\texcept sr.RequestError:\n",
    "\t\tprint(\"Could not connect to Google Speech Recognition.\")\n",
    "\t\treturn None\n"
   ]
  },
  {
   "cell_type": "code",
   "execution_count": 10,
   "id": "a1cfb407",
   "metadata": {},
   "outputs": [
    {
     "name": "stdout",
     "output_type": "stream",
     "text": [
      "Listening...\n",
      "Sorry, I could not understand.\n",
      "Listening...\n",
      "Sorry, I could not understand.\n",
      "Listening...\n",
      "User said: go to Wikipedia\n",
      "Listening...\n",
      "User said: search Sri Lanka\n",
      "The Sri Lankan civil war was a civil war fought in Sri Lanka from 1983 to 2009. Beginning on 23 July 1983, it was an intermittent insurgency against the government by the Liberation Tigers of Tamil Eelam (LTTE, also known as the Tamil Tigers) led by Velupillai Prabhakaran.\n",
      "Listening...\n",
      "Sorry, I could not understand.\n",
      "Listening...\n"
     ]
    },
    {
     "ename": "KeyboardInterrupt",
     "evalue": "",
     "output_type": "error",
     "traceback": [
      "\u001b[31m---------------------------------------------------------------------------\u001b[39m",
      "\u001b[31mKeyboardInterrupt\u001b[39m                         Traceback (most recent call last)",
      "\u001b[36mCell\u001b[39m\u001b[36m \u001b[39m\u001b[32mIn[10]\u001b[39m\u001b[32m, line 8\u001b[39m\n\u001b[32m      5\u001b[39m \t\t\u001b[38;5;28;01mif\u001b[39;00m command:\n\u001b[32m      6\u001b[39m \t\t\tprocess_command(command)\n\u001b[32m----> \u001b[39m\u001b[32m8\u001b[39m \u001b[43mstart_voice_assistant\u001b[49m\u001b[43m(\u001b[49m\u001b[43m)\u001b[49m\n",
      "\u001b[36mCell\u001b[39m\u001b[36m \u001b[39m\u001b[32mIn[10]\u001b[39m\u001b[32m, line 4\u001b[39m, in \u001b[36mstart_voice_assistant\u001b[39m\u001b[34m()\u001b[39m\n\u001b[32m      2\u001b[39m speak(\u001b[33m\"\u001b[39m\u001b[33mhello! I am your voice assistant. How can I help you?\u001b[39m\u001b[33m\"\u001b[39m)\n\u001b[32m      3\u001b[39m \u001b[38;5;28;01mwhile\u001b[39;00m \u001b[38;5;28;01mTrue\u001b[39;00m:\n\u001b[32m----> \u001b[39m\u001b[32m4\u001b[39m \tcommand = \u001b[43mrecognize_speech\u001b[49m\u001b[43m(\u001b[49m\u001b[43m)\u001b[49m\n\u001b[32m      5\u001b[39m \t\u001b[38;5;28;01mif\u001b[39;00m command:\n\u001b[32m      6\u001b[39m \t\tprocess_command(command)\n",
      "\u001b[36mCell\u001b[39m\u001b[36m \u001b[39m\u001b[32mIn[7]\u001b[39m\u001b[32m, line 6\u001b[39m, in \u001b[36mrecognize_speech\u001b[39m\u001b[34m()\u001b[39m\n\u001b[32m      4\u001b[39m \t\u001b[38;5;28mprint\u001b[39m(\u001b[33m\"\u001b[39m\u001b[33mListening...\u001b[39m\u001b[33m\"\u001b[39m)\n\u001b[32m      5\u001b[39m \trecognizer.adjust_for_ambient_noise(source)\n\u001b[32m----> \u001b[39m\u001b[32m6\u001b[39m \taudio = \u001b[43mrecognizer\u001b[49m\u001b[43m.\u001b[49m\u001b[43mlisten\u001b[49m\u001b[43m(\u001b[49m\u001b[43msource\u001b[49m\u001b[43m)\u001b[49m\n\u001b[32m      7\u001b[39m \u001b[38;5;28;01mtry\u001b[39;00m:\n\u001b[32m      8\u001b[39m \ttext = recognizer.recognize_google(audio)\n",
      "\u001b[36mFile \u001b[39m\u001b[32md:\\Voice Assistant\\vcc\\Lib\\site-packages\\speech_recognition\\__init__.py:460\u001b[39m, in \u001b[36mRecognizer.listen\u001b[39m\u001b[34m(self, source, timeout, phrase_time_limit, snowboy_configuration, stream)\u001b[39m\n\u001b[32m    458\u001b[39m result = \u001b[38;5;28mself\u001b[39m._listen(source, timeout, phrase_time_limit, snowboy_configuration, stream)\n\u001b[32m    459\u001b[39m \u001b[38;5;28;01mif\u001b[39;00m \u001b[38;5;129;01mnot\u001b[39;00m stream:\n\u001b[32m--> \u001b[39m\u001b[32m460\u001b[39m \u001b[43m    \u001b[49m\u001b[38;5;28;43;01mfor\u001b[39;49;00m\u001b[43m \u001b[49m\u001b[43ma\u001b[49m\u001b[43m \u001b[49m\u001b[38;5;129;43;01min\u001b[39;49;00m\u001b[43m \u001b[49m\u001b[43mresult\u001b[49m\u001b[43m:\u001b[49m\n\u001b[32m    461\u001b[39m \u001b[43m        \u001b[49m\u001b[38;5;28;43;01mreturn\u001b[39;49;00m\u001b[43m \u001b[49m\u001b[43ma\u001b[49m\n\u001b[32m    462\u001b[39m \u001b[38;5;28;01mreturn\u001b[39;00m result\n",
      "\u001b[36mFile \u001b[39m\u001b[32md:\\Voice Assistant\\vcc\\Lib\\site-packages\\speech_recognition\\__init__.py:530\u001b[39m, in \u001b[36mRecognizer._listen\u001b[39m\u001b[34m(self, source, timeout, phrase_time_limit, snowboy_configuration, stream)\u001b[39m\n\u001b[32m    527\u001b[39m \u001b[38;5;28;01mif\u001b[39;00m phrase_time_limit \u001b[38;5;129;01mand\u001b[39;00m elapsed_time - phrase_start_time > phrase_time_limit:\n\u001b[32m    528\u001b[39m     \u001b[38;5;28;01mbreak\u001b[39;00m\n\u001b[32m--> \u001b[39m\u001b[32m530\u001b[39m buffer = \u001b[43msource\u001b[49m\u001b[43m.\u001b[49m\u001b[43mstream\u001b[49m\u001b[43m.\u001b[49m\u001b[43mread\u001b[49m\u001b[43m(\u001b[49m\u001b[43msource\u001b[49m\u001b[43m.\u001b[49m\u001b[43mCHUNK\u001b[49m\u001b[43m)\u001b[49m\n\u001b[32m    531\u001b[39m \u001b[38;5;28;01mif\u001b[39;00m \u001b[38;5;28mlen\u001b[39m(buffer) == \u001b[32m0\u001b[39m: \u001b[38;5;28;01mbreak\u001b[39;00m  \u001b[38;5;66;03m# reached end of the stream\u001b[39;00m\n\u001b[32m    532\u001b[39m frames.append(buffer)\n",
      "\u001b[36mFile \u001b[39m\u001b[32md:\\Voice Assistant\\vcc\\Lib\\site-packages\\speech_recognition\\__init__.py:191\u001b[39m, in \u001b[36mMicrophone.MicrophoneStream.read\u001b[39m\u001b[34m(self, size)\u001b[39m\n\u001b[32m    190\u001b[39m \u001b[38;5;28;01mdef\u001b[39;00m\u001b[38;5;250m \u001b[39m\u001b[34mread\u001b[39m(\u001b[38;5;28mself\u001b[39m, size):\n\u001b[32m--> \u001b[39m\u001b[32m191\u001b[39m     \u001b[38;5;28;01mreturn\u001b[39;00m \u001b[38;5;28;43mself\u001b[39;49m\u001b[43m.\u001b[49m\u001b[43mpyaudio_stream\u001b[49m\u001b[43m.\u001b[49m\u001b[43mread\u001b[49m\u001b[43m(\u001b[49m\u001b[43msize\u001b[49m\u001b[43m,\u001b[49m\u001b[43m \u001b[49m\u001b[43mexception_on_overflow\u001b[49m\u001b[43m=\u001b[49m\u001b[38;5;28;43;01mFalse\u001b[39;49;00m\u001b[43m)\u001b[49m\n",
      "\u001b[36mFile \u001b[39m\u001b[32md:\\Voice Assistant\\vcc\\Lib\\site-packages\\pyaudio\\__init__.py:570\u001b[39m, in \u001b[36mPyAudio.Stream.read\u001b[39m\u001b[34m(self, num_frames, exception_on_overflow)\u001b[39m\n\u001b[32m    567\u001b[39m \u001b[38;5;28;01mif\u001b[39;00m \u001b[38;5;129;01mnot\u001b[39;00m \u001b[38;5;28mself\u001b[39m._is_input:\n\u001b[32m    568\u001b[39m     \u001b[38;5;28;01mraise\u001b[39;00m \u001b[38;5;167;01mIOError\u001b[39;00m(\u001b[33m\"\u001b[39m\u001b[33mNot input stream\u001b[39m\u001b[33m\"\u001b[39m,\n\u001b[32m    569\u001b[39m                   paCanNotReadFromAnOutputOnlyStream)\n\u001b[32m--> \u001b[39m\u001b[32m570\u001b[39m \u001b[38;5;28;01mreturn\u001b[39;00m \u001b[43mpa\u001b[49m\u001b[43m.\u001b[49m\u001b[43mread_stream\u001b[49m\u001b[43m(\u001b[49m\u001b[38;5;28;43mself\u001b[39;49m\u001b[43m.\u001b[49m\u001b[43m_stream\u001b[49m\u001b[43m,\u001b[49m\u001b[43m \u001b[49m\u001b[43mnum_frames\u001b[49m\u001b[43m,\u001b[49m\n\u001b[32m    571\u001b[39m \u001b[43m                      \u001b[49m\u001b[43mexception_on_overflow\u001b[49m\u001b[43m)\u001b[49m\n",
      "\u001b[31mKeyboardInterrupt\u001b[39m: "
     ]
    }
   ],
   "source": [
    "def start_voice_assistant():\n",
    "\tspeak(\"hello! I am your voice assistant. How can I help you?\")\n",
    "\twhile True:\n",
    "\t\tcommand = recognize_speech()\n",
    "\t\tif command:\n",
    "\t\t\tprocess_command(command)\n",
    "\t\t\t\n",
    "start_voice_assistant()"
   ]
  }
 ],
 "metadata": {
  "kernelspec": {
   "display_name": "vcc",
   "language": "python",
   "name": "python3"
  },
  "language_info": {
   "codemirror_mode": {
    "name": "ipython",
    "version": 3
   },
   "file_extension": ".py",
   "mimetype": "text/x-python",
   "name": "python",
   "nbconvert_exporter": "python",
   "pygments_lexer": "ipython3",
   "version": "3.11.0"
  }
 },
 "nbformat": 4,
 "nbformat_minor": 5
}
